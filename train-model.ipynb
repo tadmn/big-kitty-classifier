{
 "cells": [
  {
   "metadata": {},
   "cell_type": "code",
   "source": [
    "import shutil\n",
    "from pathlib import Path\n",
    "import os\n",
    "\n",
    "# Fastai related libraries.\n",
    "import fastbook\n",
    "from fastai.vision.all import *\n",
    "from fastai.vision.widgets import *"
   ],
   "id": "9afbdc2040dbc954",
   "outputs": [],
   "execution_count": null
  },
  {
   "cell_type": "code",
   "id": "initial_id",
   "metadata": {
    "collapsed": true
   },
   "source": [
    "image_download_dir = 'build/data/images'\n",
    "\n",
    "shutil.rmtree(image_download_dir, ignore_errors=True)\n",
    "os.makedirs(image_download_dir, exist_ok=True)\n",
    "\n",
    "def download_images(search_terms, label, num_images_to_download):\n",
    "    dest_dir = Path(image_download_dir) / label\n",
    "\n",
    "    num_images_per_term = round(num_images_to_download / len(search_terms))\n",
    "\n",
    "    for term in search_terms:\n",
    "        results = fastbook.search_images_ddg(term, num_images_per_term)\n",
    "        fastbook.download_images(dest_dir, urls=results)\n",
    "\n",
    "    # Remove any files that don't load as proper image files.\n",
    "    failed = fastbook.verify_images(fastbook.get_image_files(dest_dir))\n",
    "    failed.map(Path.unlink)\n",
    "\n",
    "\n",
    "download_images(['panther animal'], 'panther', 200)\n",
    "download_images(['leopard animal'], 'leopard', 200)\n",
    "download_images(['snow leopard animal'], 'snow leopard', 200)\n",
    "download_images(['tiger animal'], 'tiger', 200)\n",
    "download_images(['lion animal'], 'lion', 200)\n",
    "download_images(['cheetah animal'], 'cheetah', 200)\n",
    "download_images(['cougar animal'], 'cougar', 200)"
   ],
   "outputs": [],
   "execution_count": null
  },
  {
   "metadata": {},
   "cell_type": "code",
   "source": [
    "data_loaders = DataBlock(\n",
    "    blocks=[ImageBlock, CategoryBlock],\n",
    "    get_items=get_image_files,\n",
    "    splitter=RandomSplitter(valid_pct=0.2, seed=1168),\n",
    "    get_y=parent_label,\n",
    "    item_tfms=[Resize(192, method='squish')]\n",
    ").dataloaders(image_download_dir, bs=150)\n",
    "\n",
    "data_loaders.valid.show_batch(max_n=20, nrows=5)"
   ],
   "id": "ec0d605e04d735ae",
   "outputs": [],
   "execution_count": null
  },
  {
   "metadata": {},
   "cell_type": "code",
   "source": [
    "learn = vision_learner(data_loaders, resnet18, metrics=error_rate)\n",
    "learn.fine_tune(2)"
   ],
   "id": "b92d646fa1ff40cc",
   "outputs": [],
   "execution_count": null
  },
  {
   "metadata": {},
   "cell_type": "code",
   "source": [
    "interp = ClassificationInterpretation.from_learner(learn)\n",
    "interp.plot_confusion_matrix()"
   ],
   "id": "bca217f532c1bee6",
   "outputs": [],
   "execution_count": null
  },
  {
   "metadata": {},
   "cell_type": "code",
   "source": "interp.plot_top_losses(8, ncols=1)",
   "id": "57bd6052dd98bf5b",
   "outputs": [],
   "execution_count": null
  },
  {
   "metadata": {},
   "cell_type": "code",
   "source": "learn.export()",
   "id": "8323046cd3ca94dc",
   "outputs": [],
   "execution_count": null
  }
 ],
 "metadata": {
  "kernelspec": {
   "display_name": "Python 3",
   "language": "python",
   "name": "python3"
  },
  "language_info": {
   "codemirror_mode": {
    "name": "ipython",
    "version": 2
   },
   "file_extension": ".py",
   "mimetype": "text/x-python",
   "name": "python",
   "nbconvert_exporter": "python",
   "pygments_lexer": "ipython2",
   "version": "2.7.6"
  }
 },
 "nbformat": 4,
 "nbformat_minor": 5
}
